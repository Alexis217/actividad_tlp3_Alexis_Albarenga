{
 "cells": [
  {
   "cell_type": "markdown",
   "id": "498731c6",
   "metadata": {},
   "source": [
    "# Actividad - Trabajando con Series de Pandas.\n",
    "## Criterios de evaluación.\n",
    "\n",
    "* Se deben utilizar nombres de variables descriptivos y claros (Utilizar la nomeclatura correspondiente para los nombres de variables).\n",
    "* Comentarios claros y concisos que expliquen el propósito de cada sección del código.\n",
    "* Utilizar mensajes de commit **descriptivos**. (Puedes utilizar la extension CONVENTIONAL COMMIT de VS-CODE). \n",
    "* Entrega en tiempo y forma.\n",
    "* Todo el código desarrollado debe ser subido a un repositorio en GitHub (el nombre del repositorio de seguir la siguiente estructura: actividad_tlp3_nombre_apellido).\n",
    "* Para resolver las actividades se debe insertar casillas de codigo entre cada actividad del cuaderno de Jupyter\n",
    "\n",
    "### ¡Importante!\n",
    "**El incumplimiento de los criterios de evaluación restará puntos en la nota final del práctico!**"
   ]
  },
  {
   "cell_type": "markdown",
   "id": "b361a7b6",
   "metadata": {},
   "source": [
    "### **Actividad 1:** \n",
    "\n",
    "Crear Series desde diferentes estructuras.\n",
    "* Crea una Series con los números del 1 al 5\n",
    "* Crea una Series a partir de un diccionario con nombres de países como claves y sus capitales como valores."
   ]
  },
  {
   "cell_type": "code",
   "execution_count": null,
   "id": "26009294",
   "metadata": {},
   "outputs": [],
   "source": [
    "import pandas as pd\n",
    "from pandas import Series\n",
    "\n",
    "# Creo la series numeros\n",
    "numeros = Series([1, 2, 3, 4, 5])\n",
    "\n",
    "# creo el diccionario paises y sus capitales\n",
    "paises = {'Argentina': 'Buenos Aires', 'Brasil': 'Brasilia', 'Chile': 'Santiago'}\n",
    "\n",
    "# paso paises a series\n",
    "paises = Series(paises)\n",
    "\n",
    "print(numeros)\n",
    "print(paises)\n",
    "# todo:"
   ]
  },
  {
   "cell_type": "markdown",
   "id": "0c239195",
   "metadata": {},
   "source": [
    "### **Actividad 2:** \n",
    "Acceso y selección de elementos.\n",
    "* Usa una Series con tareas (que haceres cotidianos) de una semana\n",
    "* Accede a diferentes elementos a elección.\n",
    "* Cambia los valores de los dias pares.\n"
   ]
  },
  {
   "cell_type": "code",
   "execution_count": null,
   "id": "3611d25a",
   "metadata": {},
   "outputs": [],
   "source": [
    "# creo series semana\n",
    "semana = Series([\"futbol\", \"limpieza\", \"estudio\", \"compras\", \"caminar\", \"cocinar\", \"juegos\"])\n",
    "\n",
    "print(semana[3])\n",
    "\n",
    "# cambio los valores pares\n",
    "semana[2] = \"juegos\"\n",
    "semana[4] = \"limpieza\"\n",
    "semana[6] = \"estudio\"\n",
    "\n",
    "semana\n",
    "\n",
    "# todo:"
   ]
  },
  {
   "cell_type": "markdown",
   "id": "70a24b97",
   "metadata": {},
   "source": [
    "### **Actividad 3:**\n",
    "Operaciones aritméticas. \n",
    "* Realiza las operaciones basicas con 2 series cuales quieran.\n",
    "* Eleva los valores de la primer serie a 3 potencias difetentes."
   ]
  },
  {
   "cell_type": "code",
   "execution_count": null,
   "id": "a9c8ebc7",
   "metadata": {},
   "outputs": [],
   "source": [
    "\n",
    "numeros = Series([1, 2, 3])\n",
    "\n",
    "# sumo la series con 5\n",
    "numeros_sumados = numeros + 5\n",
    "# multiplico la series por 5\n",
    "numeros_multiplicados = numeros * 5\n",
    "\n",
    "print(\"la suma de los numeros es: \\n\", numeros_sumados)\n",
    "print(\"la multiplicacion de los numeros es: \\n\", numeros_multiplicados)\n",
    "\n",
    "# hago el cuadrdo, el cubo y el cuarto de los numeros de la primera serie\n",
    "numeros_cuadrados = numeros**2\n",
    "numeros_cubos = numeros**3\n",
    "numeros_cuartas = numeros**4\n",
    "\n",
    "print(\"el numero cuadrado es: \\n\", numeros_cuadrados)\n",
    "print(\"el numero cubo es: \\n\", numeros_cubos)\n",
    "print(\"el numero cuarto es: \\n\", numeros_cuartas)\n",
    "\n",
    "numeros\n",
    "# todo:"
   ]
  },
  {
   "cell_type": "markdown",
   "id": "b8dac397",
   "metadata": {},
   "source": [
    "### **Actividad 4:** \n",
    "Filtrado con condiciones.\n",
    "* Crea una Series de edades de 10 personas.\n",
    "* Muestra solo a los mayores de 18.\n",
    "* Reemplaza a los menores por \"Menor de edad\"."
   ]
  },
  {
   "cell_type": "code",
   "execution_count": null,
   "id": "d04fd492",
   "metadata": {},
   "outputs": [],
   "source": [
    "edades = Series([13, 15, 17, 23, 44, 33, 55, 75, 46, 68])\n",
    "\n",
    "# filtro mayores de edad\n",
    "edad_mayores = edades[3:]\n",
    "\n",
    "print(edad_mayores)\n",
    "\n",
    "# cambio edad de menores a menor de edad\n",
    "edades[0] = \"menor de edad\"\n",
    "edades[1] = \"menor de edad\"\n",
    "edades[2] = \"mayor de edad\"\n",
    "\n",
    "print(edades)\n",
    "\n",
    "# todo:"
   ]
  },
  {
   "cell_type": "markdown",
   "id": "8889d0f2",
   "metadata": {},
   "source": [
    "### Actividad 5:\n",
    "Estadísticas básicas.\n",
    "\n",
    "* Crea una Series con las notas de 10 estudiantes.\n",
    "* Calcula la media, mediana, desviación estándar y máximo.\n",
    "* Muestra cuántos estudiantes aprobaron si el mínimo para aprobar es 6.\n",
    "* Ordenar las notas de manera ascendente y descendente. "
   ]
  },
  {
   "cell_type": "code",
   "execution_count": null,
   "id": "bc0ec844",
   "metadata": {},
   "outputs": [],
   "source": [
    "notas = Series([1, 2, 3, 4, 5, 6, 7, 8, 9, 10])\n",
    "\n",
    "# calcula promedio, mediana, desviacion estandar y numero maximo\n",
    "notas_promedio =notas.mean()\n",
    "\n",
    "notas_meediana = notas.median()\n",
    "\n",
    "notas_desviacion = notas.std()\n",
    "\n",
    "notas_max = notas.max()\n",
    "\n",
    "print(notas_promedio)\n",
    "\n",
    "print(notas_meediana)\n",
    "\n",
    "print(notas_desviacion)\n",
    "\n",
    "print(notas_max)\n",
    "\n",
    "# calcula el numero de alumnos que obtuvieron nota mayor a 6\n",
    "alumnos = notas[notas >= 6].count()\n",
    "\n",
    "print(alumnos)\n",
    "\n",
    "# ordena de mayor a menor y de menor a mayor\n",
    "notas_ascendente = notas.sort_values(ascending=True)\n",
    "notas_descendente = notas.sort_values(ascending=False)\n",
    "\n",
    "print(notas_ascendente)\n",
    "print(notas_descendente)\n",
    "\n",
    "# todo:\n"
   ]
  }
 ],
 "metadata": {
  "kernelspec": {
   "display_name": ".venv",
   "language": "python",
   "name": "python3"
  },
  "language_info": {
   "codemirror_mode": {
    "name": "ipython",
    "version": 3
   },
   "file_extension": ".py",
   "mimetype": "text/x-python",
   "name": "python",
   "nbconvert_exporter": "python",
   "pygments_lexer": "ipython3",
   "version": "3.12.9"
  }
 },
 "nbformat": 4,
 "nbformat_minor": 5
}
